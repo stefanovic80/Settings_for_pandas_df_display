{
 "cells": [
  {
   "cell_type": "code",
   "execution_count": 1,
   "id": "730f06f4",
   "metadata": {},
   "outputs": [
    {
     "data": {
      "text/html": [
       "<style>.container { width:100% !important; }</style>"
      ],
      "text/plain": [
       "<IPython.core.display.HTML object>"
      ]
     },
     "metadata": {},
     "output_type": "display_data"
    },
    {
     "data": {
      "text/html": [
       "<style>.output_result { max-width:100% !important; }</style>"
      ],
      "text/plain": [
       "<IPython.core.display.HTML object>"
      ]
     },
     "metadata": {},
     "output_type": "display_data"
    },
    {
     "data": {
      "text/html": [
       "<style>.prompt { display:none !important; }</style>"
      ],
      "text/plain": [
       "<IPython.core.display.HTML object>"
      ]
     },
     "metadata": {},
     "output_type": "display_data"
    }
   ],
   "source": [
    "import pandas as pd\n",
    "import numpy as np\n",
    "#https://stackoverflow.com/questions/38783027/jupyter-notebook-display-two-pandas-tables-side-by-side\n",
    "from itertools import chain,cycle\n",
    "from IPython.display import display, HTML, display_html\n",
    "display(HTML(\"<style>.container { width:100% !important; }</style>\"))\n",
    "display(HTML(\"<style>.output_result { max-width:100% !important; }</style>\"))\n",
    "display(HTML(\"<style>.prompt { display:none !important; }</style>\"))"
   ]
  },
  {
   "cell_type": "code",
   "execution_count": 2,
   "id": "a3c80c7f",
   "metadata": {},
   "outputs": [],
   "source": [
    "def dfDisplay(*args,titles=cycle([''])):\n",
    "    html_str=''\n",
    "    for df,title in zip(args, chain(titles,cycle(['</br>'])) ):\n",
    "        html_str+='<th style=\"text-align:center\"><td style=\"vertical-align:top\">'\n",
    "        html_str+=f'<h2 style=\"text-align: center;\">{title}</h2>'\n",
    "        html_str+=df.to_html().replace('table','table style=\"display:inline\"')\n",
    "        html_str+='</td></th>'\n",
    "    display_html(html_str,raw=True)"
   ]
  },
  {
   "cell_type": "markdown",
   "id": "0e32abbe",
   "metadata": {},
   "source": [
    "<p style=\"font-size:18pt\"> The aim is to show dataframes SIDE BY SIDE, which works on Jupyter Notebook. For some weird reason, they appear one on top of the other here on GitHub. </p>"
   ]
  },
  {
   "cell_type": "code",
   "execution_count": 4,
   "id": "2c94e34b",
   "metadata": {},
   "outputs": [
    {
     "data": {
      "text/html": [
       "<th style=\"text-align:center\"><td style=\"vertical-align:top\"><h2 style=\"text-align: center;\"></h2><table style=\"display:inline\" border=\"1\" class=\"dataframe\">\n",
       "  <thead>\n",
       "    <tr style=\"text-align: right;\">\n",
       "      <th></th>\n",
       "      <th>0</th>\n",
       "      <th>1</th>\n",
       "      <th>2</th>\n",
       "      <th>3</th>\n",
       "    </tr>\n",
       "  </thead>\n",
       "  <tbody>\n",
       "    <tr>\n",
       "      <th>0</th>\n",
       "      <td>-0.075530</td>\n",
       "      <td>0.971801</td>\n",
       "      <td>0.742580</td>\n",
       "      <td>-3.090501</td>\n",
       "    </tr>\n",
       "    <tr>\n",
       "      <th>1</th>\n",
       "      <td>0.163489</td>\n",
       "      <td>1.158393</td>\n",
       "      <td>0.367892</td>\n",
       "      <td>0.728898</td>\n",
       "    </tr>\n",
       "    <tr>\n",
       "      <th>2</th>\n",
       "      <td>0.762298</td>\n",
       "      <td>-0.329579</td>\n",
       "      <td>0.505713</td>\n",
       "      <td>-2.033870</td>\n",
       "    </tr>\n",
       "    <tr>\n",
       "      <th>3</th>\n",
       "      <td>-0.927034</td>\n",
       "      <td>-0.582541</td>\n",
       "      <td>-1.101971</td>\n",
       "      <td>1.609886</td>\n",
       "    </tr>\n",
       "    <tr>\n",
       "      <th>4</th>\n",
       "      <td>2.289251</td>\n",
       "      <td>1.318500</td>\n",
       "      <td>1.647051</td>\n",
       "      <td>1.043013</td>\n",
       "    </tr>\n",
       "  </tbody>\n",
       "</table style=\"display:inline\"></td></th><th style=\"text-align:center\"><td style=\"vertical-align:top\"><h2 style=\"text-align: center;\"></h2><table style=\"display:inline\" border=\"1\" class=\"dataframe\">\n",
       "  <thead>\n",
       "    <tr style=\"text-align: right;\">\n",
       "      <th></th>\n",
       "      <th>0</th>\n",
       "      <th>1</th>\n",
       "      <th>2</th>\n",
       "      <th>3</th>\n",
       "    </tr>\n",
       "  </thead>\n",
       "  <tbody>\n",
       "    <tr>\n",
       "      <th>0</th>\n",
       "      <td>0.667788</td>\n",
       "      <td>-2.320882</td>\n",
       "      <td>0.116795</td>\n",
       "      <td>1.118150</td>\n",
       "    </tr>\n",
       "    <tr>\n",
       "      <th>1</th>\n",
       "      <td>0.367844</td>\n",
       "      <td>-0.254343</td>\n",
       "      <td>0.662588</td>\n",
       "      <td>-1.335911</td>\n",
       "    </tr>\n",
       "    <tr>\n",
       "      <th>2</th>\n",
       "      <td>-0.572285</td>\n",
       "      <td>-1.302445</td>\n",
       "      <td>-0.320727</td>\n",
       "      <td>0.176800</td>\n",
       "    </tr>\n",
       "    <tr>\n",
       "      <th>3</th>\n",
       "      <td>1.044632</td>\n",
       "      <td>0.410096</td>\n",
       "      <td>1.445519</td>\n",
       "      <td>1.605291</td>\n",
       "    </tr>\n",
       "    <tr>\n",
       "      <th>4</th>\n",
       "      <td>-0.906139</td>\n",
       "      <td>0.860675</td>\n",
       "      <td>-0.013367</td>\n",
       "      <td>-0.516879</td>\n",
       "    </tr>\n",
       "  </tbody>\n",
       "</table style=\"display:inline\"></td></th>"
      ]
     },
     "metadata": {},
     "output_type": "display_data"
    }
   ],
   "source": [
    "A = np.random.randn(100, 4)\n",
    "B = np.random.randn(100, 4)\n",
    "C = np.random.randn(100, 4)\n",
    "\n",
    "dfA = pd.DataFrame(A)\n",
    "dfB = pd.DataFrame(B)\n",
    "dfC = pd.DataFrame(C)\n",
    "\n",
    "dfDisplay(dfA.head(),dfB.head())#,dfC.head(), titles=['dfA','dfB', 'dfC'])"
   ]
  },
  {
   "cell_type": "code",
   "execution_count": null,
   "id": "9b85f522",
   "metadata": {},
   "outputs": [],
   "source": []
  }
 ],
 "metadata": {
  "kernelspec": {
   "display_name": "Python 3 (ipykernel)",
   "language": "python",
   "name": "python3"
  },
  "language_info": {
   "codemirror_mode": {
    "name": "ipython",
    "version": 3
   },
   "file_extension": ".py",
   "mimetype": "text/x-python",
   "name": "python",
   "nbconvert_exporter": "python",
   "pygments_lexer": "ipython3",
   "version": "3.9.12"
  }
 },
 "nbformat": 4,
 "nbformat_minor": 5
}
