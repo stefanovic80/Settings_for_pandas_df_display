{
 "cells": [
  {
   "cell_type": "code",
   "execution_count": 1,
   "id": "730f06f4",
   "metadata": {},
   "outputs": [
    {
     "data": {
      "text/html": [
       "<style>.container { width:100% !important; }</style>"
      ],
      "text/plain": [
       "<IPython.core.display.HTML object>"
      ]
     },
     "metadata": {},
     "output_type": "display_data"
    },
    {
     "data": {
      "text/html": [
       "<style>.output_result { max-width:100% !important; }</style>"
      ],
      "text/plain": [
       "<IPython.core.display.HTML object>"
      ]
     },
     "metadata": {},
     "output_type": "display_data"
    },
    {
     "data": {
      "text/html": [
       "<style>.prompt { display:none !important; }</style>"
      ],
      "text/plain": [
       "<IPython.core.display.HTML object>"
      ]
     },
     "metadata": {},
     "output_type": "display_data"
    }
   ],
   "source": [
    "import pandas as pd\n",
    "import numpy as np\n",
    "#https://stackoverflow.com/questions/38783027/jupyter-notebook-display-two-pandas-tables-side-by-side\n",
    "from itertools import chain,cycle\n",
    "from IPython.display import display, HTML, display_html\n",
    "display(HTML(\"<style>.container { width:100% !important; }</style>\"))\n",
    "display(HTML(\"<style>.output_result { max-width:100% !important; }</style>\"))\n",
    "display(HTML(\"<style>.prompt { display:none !important; }</style>\"))"
   ]
  },
  {
   "cell_type": "code",
   "execution_count": 2,
   "id": "a3c80c7f",
   "metadata": {},
   "outputs": [],
   "source": [
    "def dfDisplay(*args,titles=cycle([''])):\n",
    "    html_str=''\n",
    "    for df,title in zip(args, chain(titles,cycle(['</br>'])) ):\n",
    "        html_str+='<th style=\"text-align:center\"><td style=\"vertical-align:top\">'\n",
    "        html_str+=f'<h2 style=\"text-align: center;\">{title}</h2>'\n",
    "        html_str+=df.to_html().replace('table','table style=\"display:inline\"')\n",
    "        html_str+='</td></th>'\n",
    "    display_html(html_str,raw=True)"
   ]
  },
  {
   "cell_type": "markdown",
   "id": "0e32abbe",
   "metadata": {},
   "source": [
    "<p style=\"font-size:18pt\"> The aim is to show dataframes SIDE BY SIDE, which works on Jupyter Notebook. For some weird reason, they appear one on top of the other here on GitHub. </p>"
   ]
  },
  {
   "cell_type": "code",
   "execution_count": 3,
   "id": "2c94e34b",
   "metadata": {},
   "outputs": [],
   "source": [
    "A = np.random.randn(100, 4)\n",
    "B = np.random.randn(100, 4)\n",
    "C = np.random.randn(100, 4)\n",
    "\n",
    "dfA = pd.DataFrame(A)\n",
    "dfB = pd.DataFrame(B)\n",
    "dfC = pd.DataFrame(C)"
   ]
  },
  {
   "cell_type": "code",
   "execution_count": 4,
   "id": "9b85f522",
   "metadata": {},
   "outputs": [
    {
     "data": {
      "text/html": [
       "<th style=\"text-align:center\"><td style=\"vertical-align:top\"><h2 style=\"text-align: center;\">dfA</h2><table style=\"display:inline\" border=\"1\" class=\"dataframe\">\n",
       "  <thead>\n",
       "    <tr style=\"text-align: right;\">\n",
       "      <th></th>\n",
       "      <th>0</th>\n",
       "      <th>1</th>\n",
       "      <th>2</th>\n",
       "      <th>3</th>\n",
       "    </tr>\n",
       "  </thead>\n",
       "  <tbody>\n",
       "    <tr>\n",
       "      <th>0</th>\n",
       "      <td>0.008055</td>\n",
       "      <td>0.461046</td>\n",
       "      <td>1.174286</td>\n",
       "      <td>-0.641258</td>\n",
       "    </tr>\n",
       "    <tr>\n",
       "      <th>1</th>\n",
       "      <td>-0.600728</td>\n",
       "      <td>1.151883</td>\n",
       "      <td>0.180950</td>\n",
       "      <td>-0.540336</td>\n",
       "    </tr>\n",
       "    <tr>\n",
       "      <th>2</th>\n",
       "      <td>-0.831435</td>\n",
       "      <td>-0.629444</td>\n",
       "      <td>0.491841</td>\n",
       "      <td>0.450848</td>\n",
       "    </tr>\n",
       "    <tr>\n",
       "      <th>3</th>\n",
       "      <td>0.541387</td>\n",
       "      <td>1.440243</td>\n",
       "      <td>-1.503020</td>\n",
       "      <td>-0.405152</td>\n",
       "    </tr>\n",
       "    <tr>\n",
       "      <th>4</th>\n",
       "      <td>-0.048048</td>\n",
       "      <td>0.198740</td>\n",
       "      <td>-0.416326</td>\n",
       "      <td>-0.885931</td>\n",
       "    </tr>\n",
       "  </tbody>\n",
       "</table style=\"display:inline\"></td></th><th style=\"text-align:center\"><td style=\"vertical-align:top\"><h2 style=\"text-align: center;\">dfB</h2><table style=\"display:inline\" border=\"1\" class=\"dataframe\">\n",
       "  <thead>\n",
       "    <tr style=\"text-align: right;\">\n",
       "      <th></th>\n",
       "      <th>0</th>\n",
       "      <th>1</th>\n",
       "      <th>2</th>\n",
       "      <th>3</th>\n",
       "    </tr>\n",
       "  </thead>\n",
       "  <tbody>\n",
       "    <tr>\n",
       "      <th>0</th>\n",
       "      <td>-0.630406</td>\n",
       "      <td>-0.942582</td>\n",
       "      <td>1.614310</td>\n",
       "      <td>-1.151294</td>\n",
       "    </tr>\n",
       "    <tr>\n",
       "      <th>1</th>\n",
       "      <td>-0.698666</td>\n",
       "      <td>1.511538</td>\n",
       "      <td>-1.646056</td>\n",
       "      <td>1.153130</td>\n",
       "    </tr>\n",
       "    <tr>\n",
       "      <th>2</th>\n",
       "      <td>0.350119</td>\n",
       "      <td>0.028060</td>\n",
       "      <td>-0.821743</td>\n",
       "      <td>1.593312</td>\n",
       "    </tr>\n",
       "    <tr>\n",
       "      <th>3</th>\n",
       "      <td>0.944676</td>\n",
       "      <td>0.224725</td>\n",
       "      <td>-0.108447</td>\n",
       "      <td>1.170910</td>\n",
       "    </tr>\n",
       "    <tr>\n",
       "      <th>4</th>\n",
       "      <td>0.606010</td>\n",
       "      <td>-0.661779</td>\n",
       "      <td>-1.768373</td>\n",
       "      <td>-0.508919</td>\n",
       "    </tr>\n",
       "  </tbody>\n",
       "</table style=\"display:inline\"></td></th><th style=\"text-align:center\"><td style=\"vertical-align:top\"><h2 style=\"text-align: center;\">dfC</h2><table style=\"display:inline\" border=\"1\" class=\"dataframe\">\n",
       "  <thead>\n",
       "    <tr style=\"text-align: right;\">\n",
       "      <th></th>\n",
       "      <th>0</th>\n",
       "      <th>1</th>\n",
       "      <th>2</th>\n",
       "      <th>3</th>\n",
       "    </tr>\n",
       "  </thead>\n",
       "  <tbody>\n",
       "    <tr>\n",
       "      <th>0</th>\n",
       "      <td>-0.284120</td>\n",
       "      <td>0.307968</td>\n",
       "      <td>-0.185212</td>\n",
       "      <td>0.962891</td>\n",
       "    </tr>\n",
       "    <tr>\n",
       "      <th>1</th>\n",
       "      <td>-1.790801</td>\n",
       "      <td>1.010202</td>\n",
       "      <td>0.659416</td>\n",
       "      <td>0.978026</td>\n",
       "    </tr>\n",
       "    <tr>\n",
       "      <th>2</th>\n",
       "      <td>1.314885</td>\n",
       "      <td>1.346963</td>\n",
       "      <td>-0.029624</td>\n",
       "      <td>-0.250489</td>\n",
       "    </tr>\n",
       "    <tr>\n",
       "      <th>3</th>\n",
       "      <td>-0.339001</td>\n",
       "      <td>-1.134704</td>\n",
       "      <td>0.091677</td>\n",
       "      <td>-0.780849</td>\n",
       "    </tr>\n",
       "    <tr>\n",
       "      <th>4</th>\n",
       "      <td>0.513115</td>\n",
       "      <td>-0.842380</td>\n",
       "      <td>-0.815558</td>\n",
       "      <td>0.060046</td>\n",
       "    </tr>\n",
       "  </tbody>\n",
       "</table style=\"display:inline\"></td></th>"
      ]
     },
     "metadata": {},
     "output_type": "display_data"
    }
   ],
   "source": [
    "dfDisplay(dfA.head(),dfB.head(), dfC.head(), titles=['dfA','dfB', 'dfC'])"
   ]
  },
  {
   "cell_type": "code",
   "execution_count": 5,
   "id": "1924bad8",
   "metadata": {},
   "outputs": [],
   "source": [
    "#Display ALL rows\n",
    "#dfDisplay(dfA,dfB, dfC, titles=['dfA','dfB', 'dfC'])"
   ]
  },
  {
   "cell_type": "code",
   "execution_count": 6,
   "id": "14c7f4d2",
   "metadata": {},
   "outputs": [
    {
     "data": {
      "text/html": [
       "<div>\n",
       "<style scoped>\n",
       "    .dataframe tbody tr th:only-of-type {\n",
       "        vertical-align: middle;\n",
       "    }\n",
       "\n",
       "    .dataframe tbody tr th {\n",
       "        vertical-align: top;\n",
       "    }\n",
       "\n",
       "    .dataframe thead th {\n",
       "        text-align: right;\n",
       "    }\n",
       "</style>\n",
       "<table border=\"1\" class=\"dataframe\">\n",
       "  <thead>\n",
       "    <tr style=\"text-align: right;\">\n",
       "      <th></th>\n",
       "      <th>0</th>\n",
       "      <th>1</th>\n",
       "      <th>2</th>\n",
       "      <th>3</th>\n",
       "    </tr>\n",
       "  </thead>\n",
       "  <tbody>\n",
       "    <tr>\n",
       "      <th>0</th>\n",
       "      <td>0.008055</td>\n",
       "      <td>0.461046</td>\n",
       "      <td>1.174286</td>\n",
       "      <td>-0.641258</td>\n",
       "    </tr>\n",
       "    <tr>\n",
       "      <th>1</th>\n",
       "      <td>-0.600728</td>\n",
       "      <td>1.151883</td>\n",
       "      <td>0.180950</td>\n",
       "      <td>-0.540336</td>\n",
       "    </tr>\n",
       "    <tr>\n",
       "      <th>2</th>\n",
       "      <td>-0.831435</td>\n",
       "      <td>-0.629444</td>\n",
       "      <td>0.491841</td>\n",
       "      <td>0.450848</td>\n",
       "    </tr>\n",
       "    <tr>\n",
       "      <th>...</th>\n",
       "      <td>...</td>\n",
       "      <td>...</td>\n",
       "      <td>...</td>\n",
       "      <td>...</td>\n",
       "    </tr>\n",
       "    <tr>\n",
       "      <th>97</th>\n",
       "      <td>0.058608</td>\n",
       "      <td>0.343331</td>\n",
       "      <td>-0.437455</td>\n",
       "      <td>-0.115982</td>\n",
       "    </tr>\n",
       "    <tr>\n",
       "      <th>98</th>\n",
       "      <td>-0.059100</td>\n",
       "      <td>-1.064998</td>\n",
       "      <td>-1.378204</td>\n",
       "      <td>-1.698346</td>\n",
       "    </tr>\n",
       "    <tr>\n",
       "      <th>99</th>\n",
       "      <td>0.835253</td>\n",
       "      <td>0.773259</td>\n",
       "      <td>-0.716110</td>\n",
       "      <td>1.506983</td>\n",
       "    </tr>\n",
       "  </tbody>\n",
       "</table>\n",
       "<p>100 rows × 4 columns</p>\n",
       "</div>"
      ],
      "text/plain": [
       "           0         1         2         3\n",
       "0   0.008055  0.461046  1.174286 -0.641258\n",
       "1  -0.600728  1.151883  0.180950 -0.540336\n",
       "2  -0.831435 -0.629444  0.491841  0.450848\n",
       "..       ...       ...       ...       ...\n",
       "97  0.058608  0.343331 -0.437455 -0.115982\n",
       "98 -0.059100 -1.064998 -1.378204 -1.698346\n",
       "99  0.835253  0.773259 -0.716110  1.506983\n",
       "\n",
       "[100 rows x 4 columns]"
      ]
     },
     "execution_count": 6,
     "metadata": {},
     "output_type": "execute_result"
    }
   ],
   "source": [
    "#Display 7 rows\n",
    "pd.set_option('display.max_rows', 7)\n",
    "dfA"
   ]
  },
  {
   "cell_type": "code",
   "execution_count": 7,
   "id": "18d2f607",
   "metadata": {},
   "outputs": [
    {
     "data": {
      "text/html": [
       "<div>\n",
       "<style scoped>\n",
       "    .dataframe tbody tr th:only-of-type {\n",
       "        vertical-align: middle;\n",
       "    }\n",
       "\n",
       "    .dataframe tbody tr th {\n",
       "        vertical-align: top;\n",
       "    }\n",
       "\n",
       "    .dataframe thead th {\n",
       "        text-align: right;\n",
       "    }\n",
       "</style>\n",
       "<table border=\"1\" class=\"dataframe\">\n",
       "  <thead>\n",
       "    <tr style=\"text-align: right;\">\n",
       "      <th></th>\n",
       "      <th>0</th>\n",
       "      <th>1</th>\n",
       "      <th>2</th>\n",
       "      <th>3</th>\n",
       "    </tr>\n",
       "  </thead>\n",
       "  <tbody>\n",
       "    <tr>\n",
       "      <th>0</th>\n",
       "      <td>0.008055</td>\n",
       "      <td>0.461046</td>\n",
       "      <td>1.174286</td>\n",
       "      <td>-0.641258</td>\n",
       "    </tr>\n",
       "    <tr>\n",
       "      <th>1</th>\n",
       "      <td>-0.600728</td>\n",
       "      <td>1.151883</td>\n",
       "      <td>0.180950</td>\n",
       "      <td>-0.540336</td>\n",
       "    </tr>\n",
       "    <tr>\n",
       "      <th>2</th>\n",
       "      <td>-0.831435</td>\n",
       "      <td>-0.629444</td>\n",
       "      <td>0.491841</td>\n",
       "      <td>0.450848</td>\n",
       "    </tr>\n",
       "    <tr>\n",
       "      <th>...</th>\n",
       "      <td>...</td>\n",
       "      <td>...</td>\n",
       "      <td>...</td>\n",
       "      <td>...</td>\n",
       "    </tr>\n",
       "    <tr>\n",
       "      <th>97</th>\n",
       "      <td>0.058608</td>\n",
       "      <td>0.343331</td>\n",
       "      <td>-0.437455</td>\n",
       "      <td>-0.115982</td>\n",
       "    </tr>\n",
       "    <tr>\n",
       "      <th>98</th>\n",
       "      <td>-0.059100</td>\n",
       "      <td>-1.064998</td>\n",
       "      <td>-1.378204</td>\n",
       "      <td>-1.698346</td>\n",
       "    </tr>\n",
       "    <tr>\n",
       "      <th>99</th>\n",
       "      <td>0.835253</td>\n",
       "      <td>0.773259</td>\n",
       "      <td>-0.716110</td>\n",
       "      <td>1.506983</td>\n",
       "    </tr>\n",
       "  </tbody>\n",
       "</table>\n",
       "<p>100 rows × 4 columns</p>\n",
       "</div>"
      ],
      "text/plain": [
       "           0         1         2         3\n",
       "0   0.008055  0.461046  1.174286 -0.641258\n",
       "1  -0.600728  1.151883  0.180950 -0.540336\n",
       "2  -0.831435 -0.629444  0.491841  0.450848\n",
       "..       ...       ...       ...       ...\n",
       "97  0.058608  0.343331 -0.437455 -0.115982\n",
       "98 -0.059100 -1.064998 -1.378204 -1.698346\n",
       "99  0.835253  0.773259 -0.716110  1.506983\n",
       "\n",
       "[100 rows x 4 columns]"
      ]
     },
     "execution_count": 7,
     "metadata": {},
     "output_type": "execute_result"
    }
   ],
   "source": [
    "#Display 7 rows\n",
    "pd.set_option('display.min_rows', 7)\n",
    "dfA"
   ]
  },
  {
   "cell_type": "code",
   "execution_count": 8,
   "id": "7022c9a9",
   "metadata": {},
   "outputs": [],
   "source": [
    "#Display ALL rows\n",
    "#pd.set_option('display.max_rows', None)\n",
    "#dfA"
   ]
  },
  {
   "cell_type": "markdown",
   "id": "bbf84ab1",
   "metadata": {},
   "source": [
    "<p> Here two dataframes are going to be saved into two spreadsheet of one spreadsheet file</p>"
   ]
  },
  {
   "cell_type": "code",
   "execution_count": 9,
   "id": "5fe1b35b",
   "metadata": {},
   "outputs": [],
   "source": [
    "from openpyxl import load_workbook"
   ]
  },
  {
   "cell_type": "code",
   "execution_count": 10,
   "id": "d35c5bb1",
   "metadata": {},
   "outputs": [],
   "source": [
    "# path = r'spreadsheetFiles/spreadsheetFiles.xlsx' in case you are on Windows\n",
    "path = 'spreadsheetFiles/spreadsheetFiles.xlsx'\n",
    "\n",
    "writer = pd.ExcelWriter(path, engine = 'xlsxwriter')\n",
    "dfA.to_excel(writer, sheet_name = 'dfA random N1')\n",
    "dfB.to_excel(writer, sheet_name = 'dfB random N1')\n",
    "writer.save()\n",
    "#writer.close()"
   ]
  },
  {
   "cell_type": "markdown",
   "id": "15f9e583",
   "metadata": {},
   "source": [
    "<p> Here two further spreedsheets are going to be generated in the previously generated spreadsheet file </p>"
   ]
  },
  {
   "cell_type": "code",
   "execution_count": 11,
   "id": "24ac7341",
   "metadata": {},
   "outputs": [],
   "source": [
    "book = load_workbook(path)\n",
    "writer = pd.ExcelWriter(path, engine = 'openpyxl')\n",
    "writer.book = book\n",
    "\n",
    "dfA.to_excel(writer, sheet_name = 'dfA random N2')\n",
    "dfB.to_excel(writer, sheet_name = 'dfB random N2')\n",
    "writer.save()"
   ]
  }
 ],
 "metadata": {
  "kernelspec": {
   "display_name": "Python 3 (ipykernel)",
   "language": "python",
   "name": "python3"
  },
  "language_info": {
   "codemirror_mode": {
    "name": "ipython",
    "version": 3
   },
   "file_extension": ".py",
   "mimetype": "text/x-python",
   "name": "python",
   "nbconvert_exporter": "python",
   "pygments_lexer": "ipython3",
   "version": "3.9.12"
  }
 },
 "nbformat": 4,
 "nbformat_minor": 5
}
